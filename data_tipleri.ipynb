{
 "cells": [
  {
   "cell_type": "code",
   "execution_count": 29,
   "metadata": {},
   "outputs": [
    {
     "name": "stdout",
     "output_type": "stream",
     "text": [
      "python programming $* language\n"
     ]
    }
   ],
   "source": [
    "#1\n",
    "\n",
    "#aşağıdakı görüntünü yaratmağa çalışın\n",
    "\n",
    "#Note: goruntu pozulmasin deye yeni cell den yazin"
   ]
  },
  {
   "cell_type": "code",
   "execution_count": 23,
   "metadata": {},
   "outputs": [
    {
     "name": "stdout",
     "output_type": "stream",
     "text": [
      "python programming $* language\n"
     ]
    }
   ],
   "source": [
    "print(\"python programming $* language\")"
   ]
  },
  {
   "cell_type": "code",
   "execution_count": 37,
   "metadata": {},
   "outputs": [
    {
     "name": "stdout",
     "output_type": "stream",
     "text": [
      "Ad\n",
      "Soyad:"
     ]
    }
   ],
   "source": [
    "#2\n",
    "\n",
    "#aşağıdakı görüntünü yaratmağa çalışın\n",
    "\n",
    "#Note: goruntu pozulmasin deye yeni cell den yazin"
   ]
  },
  {
   "cell_type": "code",
   "execution_count": 22,
   "metadata": {},
   "outputs": [
    {
     "name": "stdout",
     "output_type": "stream",
     "text": [
      "Ad\n",
      "soyad:\n"
     ]
    }
   ],
   "source": [
    "print(\"Ad\")\n",
    "print(\"soyad:\")"
   ]
  },
  {
   "cell_type": "code",
   "execution_count": null,
   "metadata": {},
   "outputs": [],
   "source": []
  },
  {
   "cell_type": "code",
   "execution_count": 41,
   "metadata": {},
   "outputs": [],
   "source": [
    "#3\n",
    "\n",
    "#3 dene variable yaradin ve 3-un de type-na baxin"
   ]
  },
  {
   "cell_type": "code",
   "execution_count": 3,
   "metadata": {},
   "outputs": [
    {
     "data": {
      "text/plain": [
       "int"
      ]
     },
     "execution_count": 3,
     "metadata": {},
     "output_type": "execute_result"
    }
   ],
   "source": [
    "d = 10\n",
    "type(a)"
   ]
  },
  {
   "cell_type": "code",
   "execution_count": 4,
   "metadata": {},
   "outputs": [
    {
     "data": {
      "text/plain": [
       "int"
      ]
     },
     "execution_count": 4,
     "metadata": {},
     "output_type": "execute_result"
    }
   ],
   "source": [
    "d = '10'\n",
    "type(a)"
   ]
  },
  {
   "cell_type": "code",
   "execution_count": 5,
   "metadata": {},
   "outputs": [
    {
     "data": {
      "text/plain": [
       "float"
      ]
     },
     "execution_count": 5,
     "metadata": {},
     "output_type": "execute_result"
    }
   ],
   "source": [
    "t = 2.5\n",
    "type(t)"
   ]
  },
  {
   "cell_type": "code",
   "execution_count": 6,
   "metadata": {},
   "outputs": [
    {
     "data": {
      "text/plain": [
       "False"
      ]
     },
     "execution_count": 6,
     "metadata": {},
     "output_type": "execute_result"
    }
   ],
   "source": [
    "d = 10\n",
    "t = 12\n",
    "d > t"
   ]
  },
  {
   "cell_type": "code",
   "execution_count": 7,
   "metadata": {},
   "outputs": [
    {
     "data": {
      "text/plain": [
       "False"
      ]
     },
     "execution_count": 7,
     "metadata": {},
     "output_type": "execute_result"
    }
   ],
   "source": [
    "d = 10\n",
    "t = 12\n",
    "d >= t"
   ]
  },
  {
   "cell_type": "code",
   "execution_count": 8,
   "metadata": {},
   "outputs": [
    {
     "data": {
      "text/plain": [
       "False"
      ]
     },
     "execution_count": 8,
     "metadata": {},
     "output_type": "execute_result"
    }
   ],
   "source": [
    "d = 10\n",
    "t = 12\n",
    "d == t"
   ]
  },
  {
   "cell_type": "code",
   "execution_count": 9,
   "metadata": {},
   "outputs": [
    {
     "data": {
      "text/plain": [
       "True"
      ]
     },
     "execution_count": 9,
     "metadata": {},
     "output_type": "execute_result"
    }
   ],
   "source": [
    "d = 10\n",
    "t = 12\n",
    "d <= t"
   ]
  },
  {
   "cell_type": "code",
   "execution_count": 2,
   "metadata": {},
   "outputs": [
    {
     "name": "stdout",
     "output_type": "stream",
     "text": [
      "9\n"
     ]
    }
   ],
   "source": [
    "#4\n",
    "\n",
    "var1=2\n",
    "var2=3\n",
    "a=var1=var2\n",
    "print(a+var1+var2)\n",
    "\n",
    "#yuxaridaki kodda ne bas verir (niye bu bas verdi vacibdi ne bas verdi yox) docstring acarag yeni cell de izah edin"
   ]
  },
  {
   "cell_type": "code",
   "execution_count": null,
   "metadata": {},
   "outputs": [],
   "source": [
    "var1=2\n",
    "var2=3\n",
    "a=var1=var2\n",
    "print(a+var1+var2)\n",
    "\n",
    "# python da oxuma dili sağdan soladir burda var1=2 var2=3 a-nın da var1=var2 yə \n",
    "# bərabər olması bunların dəyərlərinin bərabərləşdirir. yəni tam sağda hansı dəyər varsa onu əsas götürür\n",
    "# sağda var2 dir oda 3ə bərabərdir var1 və a da 3ə bərabərdir"
   ]
  },
  {
   "cell_type": "code",
   "execution_count": 1,
   "metadata": {},
   "outputs": [
    {
     "ename": "NameError",
     "evalue": "name 'b' is not defined",
     "output_type": "error",
     "traceback": [
      "\u001b[1;31m---------------------------------------------------------------------------\u001b[0m",
      "\u001b[1;31mNameError\u001b[0m                                 Traceback (most recent call last)",
      "\u001b[1;32m~\\AppData\\Local\\Temp\\ipykernel_2496\\3397538289.py\u001b[0m in \u001b[0;36m<cell line: 6>\u001b[1;34m()\u001b[0m\n\u001b[0;32m      4\u001b[0m \u001b[0mvar2\u001b[0m\u001b[1;33m=\u001b[0m\u001b[1;36m3\u001b[0m\u001b[1;33m\u001b[0m\u001b[1;33m\u001b[0m\u001b[0m\n\u001b[0;32m      5\u001b[0m \u001b[0ma\u001b[0m\u001b[1;33m=\u001b[0m\u001b[0mvar1\u001b[0m\u001b[1;33m=\u001b[0m\u001b[0mvar2\u001b[0m\u001b[1;33m\u001b[0m\u001b[1;33m\u001b[0m\u001b[0m\n\u001b[1;32m----> 6\u001b[1;33m \u001b[0ma\u001b[0m\u001b[1;33m=\u001b[0m\u001b[0mb\u001b[0m\u001b[1;33m\u001b[0m\u001b[1;33m\u001b[0m\u001b[0m\n\u001b[0m\u001b[0;32m      7\u001b[0m \u001b[0mprint\u001b[0m\u001b[1;33m(\u001b[0m\u001b[0mvar1\u001b[0m\u001b[1;33m+\u001b[0m\u001b[0ma\u001b[0m\u001b[1;33m)\u001b[0m\u001b[1;33m\u001b[0m\u001b[1;33m\u001b[0m\u001b[0m\n\u001b[0;32m      8\u001b[0m \u001b[1;33m\u001b[0m\u001b[0m\n",
      "\u001b[1;31mNameError\u001b[0m: name 'b' is not defined"
     ]
    }
   ],
   "source": [
    "#5\n",
    "\n",
    "var1=2\n",
    "var2=3\n",
    "a=var1=var2\n",
    "a=b\n",
    "print(var1+a)\n",
    "\n",
    "#yuxaridaki kodda ne bas verir docstring acarag yeni cell de izah edin (niyesini qeyd edin)"
   ]
  },
  {
   "cell_type": "code",
   "execution_count": null,
   "metadata": {},
   "outputs": [],
   "source": [
    "# python proqramı sağdan sola oxuduğu üçün 3-cü sətrdə a-nıda var1-ində var2-nin dəyərinə bərabər edir\n",
    "# amma 4-cü sətrdə a=b b-nin dəyəri olmadığı üçün eror verir b-yə hər hansı bir deyer verilsə problem aradan qalxacaq\n",
    "# "
   ]
  },
  {
   "cell_type": "code",
   "execution_count": 23,
   "metadata": {},
   "outputs": [
    {
     "name": "stdout",
     "output_type": "stream",
     "text": [
      "\t*\t\n",
      "*\t \t*\n"
     ]
    }
   ],
   "source": [
    "#6\n",
    "\n",
    "#aşağıdakı görüntünü yaratmağa çalışın\n",
    "\n",
    "#Note: goruntu pozulmasin deye yeni cell den yazin ve gorduyunuz bosluglar tablardı"
   ]
  },
  {
   "cell_type": "code",
   "execution_count": 10,
   "metadata": {},
   "outputs": [
    {
     "name": "stdout",
     "output_type": "stream",
     "text": [
      "\t\t*\t\t\t\n",
      "\t*\t\t*\t\n"
     ]
    }
   ],
   "source": [
    "print(\"\\t\\t*\\t\\t\\t\")\n",
    "print(\"\\t*\\t\\t*\\t\")"
   ]
  },
  {
   "cell_type": "code",
   "execution_count": 11,
   "metadata": {},
   "outputs": [
    {
     "name": "stdout",
     "output_type": "stream",
     "text": [
      "\t\t*\t\t\t\n",
      "\t*\t\t*\t\n",
      "*\t\t\t\t*\t\n",
      "\t*\t\t*\t\n",
      "\t\t*\t\t\t\n"
     ]
    }
   ],
   "source": [
    "print(\"\\t\\t*\\t\\t\\t\")\n",
    "print(\"\\t*\\t\\t*\\t\")\n",
    "print(\"*\\t\\t\\t\\t*\\t\")\n",
    "print(\"\\t*\\t\\t*\\t\")\n",
    "print(\"\\t\\t*\\t\\t\\t\")"
   ]
  },
  {
   "cell_type": "code",
   "execution_count": 16,
   "metadata": {},
   "outputs": [
    {
     "name": "stdout",
     "output_type": "stream",
     "text": [
      "hello world \t\t\thello world\n",
      "\thello world \thello world\n",
      "\t\thello world\n"
     ]
    }
   ],
   "source": [
    "#7\n",
    "\n",
    "#aşağıdakı görüntünü yaratmağa çalışın\n",
    "\n",
    "#Note: goruntu pozulmasin deye yeni cell den yazin ve gorduyunuz bosluglar tablardı"
   ]
  },
  {
   "cell_type": "code",
   "execution_count": 12,
   "metadata": {},
   "outputs": [
    {
     "name": "stdout",
     "output_type": "stream",
     "text": [
      "hello world\t\t\thello world\n",
      "\thello world\thello world\n",
      "\t\thello world\n"
     ]
    }
   ],
   "source": [
    "print(\"hello world\\t\\t\\thello world\" )\n",
    "print(\"\\thello world\\thello world\" )\n",
    "print(\"\\t\\thello world\" )"
   ]
  },
  {
   "cell_type": "code",
   "execution_count": 13,
   "metadata": {},
   "outputs": [
    {
     "name": "stdout",
     "output_type": "stream",
     "text": [
      "\t\thello world\n",
      "\thello world\thello world\n",
      "hello world\t\t\thello world\n",
      "\thello world\thello world\n",
      "\t\thello world\n"
     ]
    }
   ],
   "source": [
    "print(\"\\t\\thello world\" )\n",
    "print(\"\\thello world\\thello world\" )\n",
    "print(\"hello world\\t\\t\\thello world\" )\n",
    "print(\"\\thello world\\thello world\" )\n",
    "print(\"\\t\\thello world\" )"
   ]
  },
  {
   "cell_type": "code",
   "execution_count": null,
   "metadata": {},
   "outputs": [],
   "source": []
  }
 ],
 "metadata": {
  "kernelspec": {
   "display_name": "Python 3 (ipykernel)",
   "language": "python",
   "name": "python3"
  },
  "language_info": {
   "codemirror_mode": {
    "name": "ipython",
    "version": 3
   },
   "file_extension": ".py",
   "mimetype": "text/x-python",
   "name": "python",
   "nbconvert_exporter": "python",
   "pygments_lexer": "ipython3",
   "version": "3.9.18"
  }
 },
 "nbformat": 4,
 "nbformat_minor": 4
}
