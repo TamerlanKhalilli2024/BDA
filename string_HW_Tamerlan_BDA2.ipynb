{
 "cells": [
  {
   "cell_type": "code",
   "execution_count": null,
   "id": "81f1ba20-47ca-4cbe-8e93-4980316c0c3f",
   "metadata": {},
   "outputs": [],
   "source": [
    "\"\"\"\n",
    "string yaradin. ve hemin stringdeki :\n",
    "\n",
    "1.butun herfleri boyuk.\n",
    "2.butun herfleri kicik.\n",
    "3.sadece birinci herifi boyuk yazin.\n",
    "\n",
    "\"\"\""
   ]
  },
  {
   "cell_type": "code",
   "execution_count": 1,
   "id": "926e7253-890c-4e3f-97ad-cd8c1f004f79",
   "metadata": {},
   "outputs": [
    {
     "name": "stdout",
     "output_type": "stream",
     "text": [
      "BU MƏNIM IKINCI TEST TAPÇIRIQ CÜMLƏMDIR.\n",
      "bu mənim ikinci test tapçırıq cümləmdir.\n",
      "Bu mənim ikinci test tapçırıq cümləmdir.\n"
     ]
    },
    {
     "data": {
      "text/plain": [
       "str"
      ]
     },
     "execution_count": 1,
     "metadata": {},
     "output_type": "execute_result"
    }
   ],
   "source": [
    "test_cumle = 'bu mənim ikinci test tapçırıq cümləmdir.'\n",
    "print(test_cumle.upper())\n",
    "print(test_cumle.lower())\n",
    "print(test_cumle.capitalize())\n",
    "type(test_cumle)"
   ]
  },
  {
   "cell_type": "code",
   "execution_count": null,
   "id": "f8291bc5-2b10-43ed-ada6-b52f1573727f",
   "metadata": {},
   "outputs": [],
   "source": [
    "\"\"\"\n",
    "\n",
    "user den input goturun ve:\n",
    "\n",
    "\n",
    "1. icinde a herfi var mi baxin.\n",
    "2. icinde nece dene b herfi var.\n",
    "\"\"\""
   ]
  },
  {
   "cell_type": "code",
   "execution_count": 3,
   "id": "23301aef-ec0a-43b4-982e-ffa62a180cc5",
   "metadata": {},
   "outputs": [
    {
     "name": "stdin",
     "output_type": "stream",
     "text": [
      "Zəhmət olmasa cümlə daxil edin: yaxsi insandirsa demeli o bir basqadir\n"
     ]
    },
    {
     "name": "stdout",
     "output_type": "stream",
     "text": [
      "yaxsi insandirsa demeli o bir basqadir\n",
      "cümlədə b hərfi 2 ədəd var\n",
      "cümlədə a hərfi True varmı\n"
     ]
    }
   ],
   "source": [
    "test_cumle1 = input ('Zəhmət olmasa cümlə daxil edin:')\n",
    "print(test_cumle1)\n",
    "\n",
    "b_herf_sayi = test_cumle1.count('b')\n",
    "a_herfi_varmi = 'a' in test_cumle1\n",
    "\n",
    "print(f'cümlədə b hərfi {b_herf_sayi} ədəd var')\n",
    "print(f'cümlədə a hərfi {a_herfi_varmi} varmı')"
   ]
  },
  {
   "cell_type": "code",
   "execution_count": null,
   "id": "5da7decf-b2d0-4df9-93cb-8653e8729dac",
   "metadata": {},
   "outputs": [],
   "source": [
    "\"\"\"\n",
    "bu bir test tapsiriqidir.\n",
    "\n",
    "1. cumleni bosluqla ayirin\n",
    "2. ayrilmis string toplusunu(list yeni) birlesdirin.\n",
    "3. birlesdirilmis cumlenin butun sozlerinin ilk herfini boyuk herf ile yazin\n",
    "\"\"\""
   ]
  },
  {
   "cell_type": "code",
   "execution_count": 4,
   "id": "d681dd22-7ab2-406b-8a07-bddbe5f16ac1",
   "metadata": {},
   "outputs": [
    {
     "name": "stdout",
     "output_type": "stream",
     "text": [
      "['bu', 'bir', 'test', 'tapsiriqidir.']\n",
      "bu bir test tapsiriqidir.\n"
     ]
    },
    {
     "data": {
      "text/plain": [
       "'Bu Bir Test Tapsiriqidir.'"
      ]
     },
     "execution_count": 4,
     "metadata": {},
     "output_type": "execute_result"
    }
   ],
   "source": [
    "test_cumle2 = 'bu bir test tapsiriqidir.'\n",
    "\n",
    "print(test_cumle2.split(' '))\n",
    "\n",
    "yeni_list = ''.join(test_cumle2)\n",
    "print(yeni_list)\n",
    "\n",
    "yeni_list.title()"
   ]
  },
  {
   "cell_type": "code",
   "execution_count": null,
   "id": "f5fced8d-df92-4569-9724-af0a4ce3fcb5",
   "metadata": {},
   "outputs": [],
   "source": []
  }
 ],
 "metadata": {
  "kernelspec": {
   "display_name": "Python 3 (ipykernel)",
   "language": "python",
   "name": "python3"
  },
  "language_info": {
   "codemirror_mode": {
    "name": "ipython",
    "version": 3
   },
   "file_extension": ".py",
   "mimetype": "text/x-python",
   "name": "python",
   "nbconvert_exporter": "python",
   "pygments_lexer": "ipython3",
   "version": "3.11.7"
  }
 },
 "nbformat": 4,
 "nbformat_minor": 5
}
